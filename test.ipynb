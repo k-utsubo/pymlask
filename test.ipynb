{
 "cells": [
  {
   "cell_type": "code",
   "execution_count": 1,
   "metadata": {},
   "outputs": [],
   "source": [
    "from __future__ import unicode_literals\n",
    "from nose.tools import assert_equals, assert_true, assert_false, assert_raises\n",
    "from mlask import MLAsk"
   ]
  },
  {
   "cell_type": "code",
   "execution_count": 2,
   "metadata": {},
   "outputs": [
    {
     "name": "stdout",
     "output_type": "stream",
     "text": [
      "{'text': '未だにマイナンバーカードを持つメリットが理解できません。行政側にメリットがあるにしろ、今までの生活で保険証も現代は１人１つを持っていますから家族で共有しているわけでもなく、住民票などもそれほど頻繁に必要でもないし、お薬手帳は手帳のままのほうが自分で管理しやすいし、、、。５年に１度の運転免許更新ですら何かと手間なのに、マイナンバーカードにも更新があると知ってから尚更作りたくない気持ちが大きくなりました。これだけ政府が推進しているのを知るだけでも、メリットは国にあって国民にではない気がします。大手銀行の度重なるシステムエラーのような事があるかもしれないし、ハッカーやウィルスによるサイバー攻撃に遭う可能性もあります。義務化されるまで作りません。', 'emotion': None}\n"
     ]
    }
   ],
   "source": [
    "emotion_analyzer = MLAsk()\n",
    "jdata = emotion_analyzer.analyze(\"未だにマイナンバーカードを持つメリットが理解できません。行政側にメリットがあるにしろ、今までの生活で保険証も現代は１人１つを持っていますから家族で共有しているわけでもなく、住民票などもそれほど頻繁に必要でもないし、お薬手帳は手帳のままのほうが自分で管理しやすいし、、、。５年に１度の運転免許更新ですら何かと手間なのに、マイナンバーカードにも更新があると知ってから尚更作りたくない気持ちが大きくなりました。これだけ政府が推進しているのを知るだけでも、メリットは国にあって国民にではない気がします。大手銀行の度重なるシステムエラーのような事があるかもしれないし、ハッカーやウィルスによるサイバー攻撃に遭う可能性もあります。義務化されるまで作りません。\")\n",
    "print(jdata)"
   ]
  }
 ],
 "metadata": {
  "kernelspec": {
   "display_name": "venv",
   "language": "python",
   "name": "python3"
  },
  "language_info": {
   "codemirror_mode": {
    "name": "ipython",
    "version": 3
   },
   "file_extension": ".py",
   "mimetype": "text/x-python",
   "name": "python",
   "nbconvert_exporter": "python",
   "pygments_lexer": "ipython3",
   "version": "3.9.12"
  },
  "orig_nbformat": 4,
  "vscode": {
   "interpreter": {
    "hash": "98b280249d8685bfbbb54f6f75f8fc0674ec3abd1c4585acc067d5a65c2378a3"
   }
  }
 },
 "nbformat": 4,
 "nbformat_minor": 2
}
